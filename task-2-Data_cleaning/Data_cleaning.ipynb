{
 "cells": [
  {
   "cell_type": "markdown",
   "id": "69a316fd-5b74-49dd-862a-c459d2587c82",
   "metadata": {
    "extensions": {
     "jupyter_dashboards": {
      "version": 1,
      "views": {
       "grid_default": {},
       "report_default": {}
      }
     }
    }
   },
   "source": [
    "# Voosh Task-2\n",
    "\n",
    "-  In this jupyter notebook you can explore\n",
    "    - Cleaning of the data, Identifing and removing missing values, duplicate values and the unwanted values from the data. \n",
    "    - Sentiment analysis of the Feebcak that are given for the resturent by the peple."
   ]
  },
  {
   "cell_type": "markdown",
   "id": "a3047c42-8382-4925-99d2-a67d3ad2d780",
   "metadata": {
    "extensions": {
     "jupyter_dashboards": {
      "version": 1,
      "views": {
       "grid_default": {},
       "report_default": {}
      }
     }
    }
   },
   "source": [
    "## Importing packages"
   ]
  },
  {
   "cell_type": "code",
   "execution_count": 1,
   "id": "b12346f2-7547-4d97-85c0-88c9d15e97e6",
   "metadata": {
    "extensions": {
     "jupyter_dashboards": {
      "version": 1,
      "views": {
       "grid_default": {},
       "report_default": {}
      }
     }
    }
   },
   "outputs": [],
   "source": [
    "#required packages\n",
    "import pandas as pd\n",
    "import warnings\n",
    "from transformers import pipeline\n",
    "warnings.filterwarnings('ignore')\n",
    "from matplotlib import pyplot as plt\n",
    "from sklearn.metrics import accuracy_score"
   ]
  },
  {
   "cell_type": "markdown",
   "id": "340a3d43-251f-41c2-9118-33ea71258ac6",
   "metadata": {
    "extensions": {
     "jupyter_dashboards": {
      "version": 1,
      "views": {
       "grid_default": {},
       "report_default": {}
      }
     }
    }
   },
   "source": [
    "## Data\n",
    "- In this section you can see how data is exported from excel sheets and converting into pandas dataframe.\n",
    "- Pandas is a built in libreary for python which is used for the creating data frames and manipilating, analysis of the data."
   ]
  },
  {
   "cell_type": "code",
   "execution_count": 2,
   "id": "db327814-391f-46ad-a5e3-58d9e7e4fb57",
   "metadata": {
    "extensions": {
     "jupyter_dashboards": {
      "version": 1,
      "views": {
       "grid_default": {},
       "report_default": {}
      }
     }
    }
   },
   "outputs": [],
   "source": [
    "#importig data from xcel sheets and converting it into pandas dataframe\n",
    "data = pd.read_excel('Data/Data.xlsx')"
   ]
  },
  {
   "cell_type": "code",
   "execution_count": 3,
   "id": "4129d12b-5f42-4d66-9964-f6eeb8cc973d",
   "metadata": {
    "extensions": {
     "jupyter_dashboards": {
      "version": 1,
      "views": {
       "grid_default": {},
       "report_default": {}
      }
     }
    }
   },
   "outputs": [
    {
     "data": {
      "text/html": [
       "<div>\n",
       "<style scoped>\n",
       "    .dataframe tbody tr th:only-of-type {\n",
       "        vertical-align: middle;\n",
       "    }\n",
       "\n",
       "    .dataframe tbody tr th {\n",
       "        vertical-align: top;\n",
       "    }\n",
       "\n",
       "    .dataframe thead th {\n",
       "        text-align: right;\n",
       "    }\n",
       "</style>\n",
       "<table border=\"1\" class=\"dataframe\">\n",
       "  <thead>\n",
       "    <tr style=\"text-align: right;\">\n",
       "      <th></th>\n",
       "      <th>Order Id</th>\n",
       "      <th>Order Status</th>\n",
       "      <th>Item Name</th>\n",
       "      <th>Item Quantity</th>\n",
       "      <th>Rating</th>\n",
       "      <th>Feedback</th>\n",
       "    </tr>\n",
       "  </thead>\n",
       "  <tbody>\n",
       "    <tr>\n",
       "      <th>0</th>\n",
       "      <td>107098745382</td>\n",
       "      <td>CANCELLED</td>\n",
       "      <td>Set of Chapatis (4 - Chapatis)</td>\n",
       "      <td>2.0</td>\n",
       "      <td>NaN</td>\n",
       "      <td>NaN</td>\n",
       "    </tr>\n",
       "    <tr>\n",
       "      <th>1</th>\n",
       "      <td>107098745382</td>\n",
       "      <td>CANCELLED</td>\n",
       "      <td>2 Paneer Paratha, Curd &amp; Pickle Meal</td>\n",
       "      <td>1.0</td>\n",
       "      <td>NaN</td>\n",
       "      <td>NaN</td>\n",
       "    </tr>\n",
       "    <tr>\n",
       "      <th>2</th>\n",
       "      <td>107098745382</td>\n",
       "      <td>CANCELLED</td>\n",
       "      <td>2 Gobhi Paratha, Curd &amp; Pickle Meal</td>\n",
       "      <td>1.0</td>\n",
       "      <td>NaN</td>\n",
       "      <td>NaN</td>\n",
       "    </tr>\n",
       "    <tr>\n",
       "      <th>3</th>\n",
       "      <td>107098745382</td>\n",
       "      <td>CANCELLED</td>\n",
       "      <td>Bhindi Masala</td>\n",
       "      <td>1.0</td>\n",
       "      <td>NaN</td>\n",
       "      <td>NaN</td>\n",
       "    </tr>\n",
       "    <tr>\n",
       "      <th>4</th>\n",
       "      <td>107022708087</td>\n",
       "      <td>DELIVERED</td>\n",
       "      <td>Voosh Paneer Premium Thali with Sweet, Butter ...</td>\n",
       "      <td>1.0</td>\n",
       "      <td>NaN</td>\n",
       "      <td>NaN</td>\n",
       "    </tr>\n",
       "  </tbody>\n",
       "</table>\n",
       "</div>"
      ],
      "text/plain": [
       "       Order Id Order Status  \\\n",
       "0  107098745382    CANCELLED   \n",
       "1  107098745382    CANCELLED   \n",
       "2  107098745382    CANCELLED   \n",
       "3  107098745382    CANCELLED   \n",
       "4  107022708087    DELIVERED   \n",
       "\n",
       "                                           Item Name  Item Quantity Rating  \\\n",
       "0                     Set of Chapatis (4 - Chapatis)            2.0    NaN   \n",
       "1               2 Paneer Paratha, Curd & Pickle Meal            1.0    NaN   \n",
       "2                2 Gobhi Paratha, Curd & Pickle Meal            1.0    NaN   \n",
       "3                                      Bhindi Masala            1.0    NaN   \n",
       "4  Voosh Paneer Premium Thali with Sweet, Butter ...            1.0    NaN   \n",
       "\n",
       "  Feedback  \n",
       "0      NaN  \n",
       "1      NaN  \n",
       "2      NaN  \n",
       "3      NaN  \n",
       "4      NaN  "
      ]
     },
     "execution_count": 3,
     "metadata": {},
     "output_type": "execute_result"
    }
   ],
   "source": [
    "#overview of the data \n",
    "data.head()"
   ]
  },
  {
   "cell_type": "code",
   "execution_count": 4,
   "id": "f77910cd-61af-4ac9-b4a0-a11c7051cb85",
   "metadata": {
    "extensions": {
     "jupyter_dashboards": {
      "version": 1,
      "views": {
       "grid_default": {},
       "report_default": {}
      }
     }
    }
   },
   "outputs": [
    {
     "name": "stdout",
     "output_type": "stream",
     "text": [
      "total number of data samples = 6934\n",
      "total number of features = 6\n"
     ]
    }
   ],
   "source": [
    "#shape of the data\n",
    "print(f'total number of data samples = {data.shape[0]}')\n",
    "print(f'total number of features = {data.shape[1]}')"
   ]
  },
  {
   "cell_type": "markdown",
   "id": "ea71deb0-d3e5-417b-b022-85f8d94f5eae",
   "metadata": {
    "extensions": {
     "jupyter_dashboards": {
      "version": 1,
      "views": {
       "grid_default": {},
       "report_default": {}
      }
     }
    }
   },
   "source": [
    "## Data cleaning\n",
    "- Data cleaning is a process of cleaning the data, Removing or Relacing of misssing,unwanted,duplicate and inaccurate values from the data. In this section you can see\n",
    "    -  Deleating duplicate values in the data.\n",
    "    -  Cleaning unwanted values in the data.\n",
    "    -  Removing of null values in the data."
   ]
  },
  {
   "cell_type": "markdown",
   "id": "359197cd-a973-422d-811b-6ef96cbdf495",
   "metadata": {
    "extensions": {
     "jupyter_dashboards": {
      "version": 1,
      "views": {
       "grid_default": {},
       "report_default": {}
      }
     }
    }
   },
   "source": [
    "### Deleating duplicate values\n",
    "-  duplicate values are those which are repeated with exactly same values more than once pandas has a inbuilt class to find and removing of the duplicate values."
   ]
  },
  {
   "cell_type": "code",
   "execution_count": 5,
   "id": "f2bc8d31-acd1-4119-98c8-101b2c586186",
   "metadata": {},
   "outputs": [
    {
     "name": "stdout",
     "output_type": "stream",
     "text": [
      "Total number of duplicate values in the data = 40\n",
      "duplicate rows are shown below\n"
     ]
    },
    {
     "data": {
      "text/html": [
       "<div>\n",
       "<style scoped>\n",
       "    .dataframe tbody tr th:only-of-type {\n",
       "        vertical-align: middle;\n",
       "    }\n",
       "\n",
       "    .dataframe tbody tr th {\n",
       "        vertical-align: top;\n",
       "    }\n",
       "\n",
       "    .dataframe thead th {\n",
       "        text-align: right;\n",
       "    }\n",
       "</style>\n",
       "<table border=\"1\" class=\"dataframe\">\n",
       "  <thead>\n",
       "    <tr style=\"text-align: right;\">\n",
       "      <th></th>\n",
       "      <th>Order Id</th>\n",
       "      <th>Order Status</th>\n",
       "      <th>Item Name</th>\n",
       "      <th>Item Quantity</th>\n",
       "      <th>Rating</th>\n",
       "      <th>Feedback</th>\n",
       "    </tr>\n",
       "  </thead>\n",
       "  <tbody>\n",
       "    <tr>\n",
       "      <th>109</th>\n",
       "      <td>106329362167</td>\n",
       "      <td>DELIVERED</td>\n",
       "      <td>Homely Chicken Masala Thali with Sweet</td>\n",
       "      <td>1.0</td>\n",
       "      <td>1 VERY BAD</td>\n",
       "      <td>NaN</td>\n",
       "    </tr>\n",
       "    <tr>\n",
       "      <th>151</th>\n",
       "      <td>105643922738</td>\n",
       "      <td>DELIVERED</td>\n",
       "      <td>Homely Bhindi Masala Thali with Sweet</td>\n",
       "      <td>1.0</td>\n",
       "      <td>NaN</td>\n",
       "      <td>NaN</td>\n",
       "    </tr>\n",
       "    <tr>\n",
       "      <th>218</th>\n",
       "      <td>107683554593</td>\n",
       "      <td>DELIVERED</td>\n",
       "      <td>Homely Paneer Masala Thali with Sweet</td>\n",
       "      <td>1.0</td>\n",
       "      <td>NaN</td>\n",
       "      <td>NaN</td>\n",
       "    </tr>\n",
       "    <tr>\n",
       "      <th>288</th>\n",
       "      <td>1068433533</td>\n",
       "      <td>DELIVERED</td>\n",
       "      <td>Homely Aloo Gobhi Thali with Sweet</td>\n",
       "      <td>1.0</td>\n",
       "      <td>NaN</td>\n",
       "      <td>NaN</td>\n",
       "    </tr>\n",
       "    <tr>\n",
       "      <th>372</th>\n",
       "      <td>105978332768</td>\n",
       "      <td>DELIVERED</td>\n",
       "      <td>Homely Paneer Masala Thali with Sweet</td>\n",
       "      <td>1.0</td>\n",
       "      <td>NaN</td>\n",
       "      <td>NaN</td>\n",
       "    </tr>\n",
       "  </tbody>\n",
       "</table>\n",
       "</div>"
      ],
      "text/plain": [
       "         Order Id Order Status                               Item Name  \\\n",
       "109  106329362167    DELIVERED  Homely Chicken Masala Thali with Sweet   \n",
       "151  105643922738    DELIVERED   Homely Bhindi Masala Thali with Sweet   \n",
       "218  107683554593    DELIVERED   Homely Paneer Masala Thali with Sweet   \n",
       "288    1068433533    DELIVERED      Homely Aloo Gobhi Thali with Sweet   \n",
       "372  105978332768    DELIVERED   Homely Paneer Masala Thali with Sweet   \n",
       "\n",
       "     Item Quantity      Rating Feedback  \n",
       "109            1.0  1 VERY BAD      NaN  \n",
       "151            1.0         NaN      NaN  \n",
       "218            1.0         NaN      NaN  \n",
       "288            1.0         NaN      NaN  \n",
       "372            1.0         NaN      NaN  "
      ]
     },
     "metadata": {},
     "output_type": "display_data"
    },
    {
     "name": "stdout",
     "output_type": "stream",
     "text": [
      "Removing duplicate values....\n",
      "Duplicate values have been removed\n",
      "Number of data samples after removing duplicates = 6894 \n"
     ]
    }
   ],
   "source": [
    "Number_of_duplicate_values = data.duplicated().sum()\n",
    "print(f'Total number of duplicate values in the data = {Number_of_duplicate_values}')\n",
    "print('duplicate rows are shown below')\n",
    "display(data[data.duplicated()].head())\n",
    "print('Removing duplicate values....')\n",
    "cleaned_data = data.drop_duplicates()\n",
    "print('Duplicate values have been removed')\n",
    "print(f'Number of data samples after removing duplicates = {cleaned_data.shape[0]} ')"
   ]
  },
  {
   "cell_type": "markdown",
   "id": "513ff5be-3a20-4118-ac28-2d393af6b3e3",
   "metadata": {
    "extensions": {
     "jupyter_dashboards": {
      "version": 1,
      "views": {
       "grid_default": {},
       "report_default": {}
      }
     }
    }
   },
   "source": [
    "### Cleaning unwanted data\n",
    "- Removing unecessary data that are not usefull for the data analysis and model building.\n",
    "- In this data oders that are cancelled are not necessary hence they are removing from the data."
   ]
  },
  {
   "cell_type": "code",
   "execution_count": 6,
   "id": "04da171c-aa7f-48ea-ae00-382615e3c024",
   "metadata": {
    "extensions": {
     "jupyter_dashboards": {
      "version": 1,
      "views": {
       "grid_default": {},
       "report_default": {}
      }
     }
    }
   },
   "outputs": [
    {
     "name": "stdout",
     "output_type": "stream",
     "text": [
      "Toatal number of cancelled oders = 150\n",
      "Removing cancelled oders ......\n",
      "Cancelled has been deleted\n",
      "Number of data samples after removing cancelled oders = 6744\n"
     ]
    }
   ],
   "source": [
    "#total number of CANCELLED oders\n",
    "number_of_canceled_oders = data[data['Order Status'] == 'CANCELLED'].shape[0]\n",
    "print(f'Toatal number of cancelled oders = {number_of_canceled_oders}')\n",
    "##removing CANCELLED oders\n",
    "print('Removing cancelled oders ......')\n",
    "cleaned_data = cleaned_data[cleaned_data['Order Status'] != 'CANCELLED']\n",
    "print('Cancelled has been deleted')\n",
    "print(f'Number of data samples after removing cancelled oders = {cleaned_data.shape[0]}')"
   ]
  },
  {
   "cell_type": "markdown",
   "id": "4f624c93-59fe-407c-b1a6-602a69f668d9",
   "metadata": {
    "extensions": {
     "jupyter_dashboards": {
      "version": 1,
      "views": {
       "grid_default": {},
       "report_default": {}
      }
     }
    }
   },
   "source": [
    "### Removing null values\n",
    "- Null values are those which having empty values in the data. You have to remove it from the data or it can make diffrence in the data analysis and on model results. Many machine learnig algorithams dose work if there are null values in the dataset."
   ]
  },
  {
   "cell_type": "code",
   "execution_count": 7,
   "id": "b5e160ba-dac0-4359-8c1d-d46bf9a1932b",
   "metadata": {
    "extensions": {
     "jupyter_dashboards": {
      "version": 1,
      "views": {
       "grid_default": {},
       "report_default": {}
      }
     }
    }
   },
   "outputs": [
    {
     "name": "stdout",
     "output_type": "stream",
     "text": [
      "Removing blank values in feedback ....\n",
      "Blank values removed\n",
      "Number of data samples after cleaning data = 231\n",
      "Number of features after cleaning data = 6\n"
     ]
    }
   ],
   "source": [
    "#removing blank values in feedback features\n",
    "print('Removing blank values in feedback ....')\n",
    "cleaned_data.dropna(subset=['Feedback'],inplace=True)\n",
    "print('Blank values removed')\n",
    "print(f'Number of data samples after cleaning data = {cleaned_data.shape[0]}')\n",
    "print(f'Number of features after cleaning data = {cleaned_data.shape[1]}')"
   ]
  },
  {
   "cell_type": "markdown",
   "id": "63db076e-6321-457f-8fe6-479954af0ff0",
   "metadata": {},
   "source": [
    "# Data analysis\n",
    "- Data analysis has been done in google data studios and you can acess it [here](https://datastudio.google.com/reporting/b33b9123-993c-43b4-bc16-0fb068a37b88)\n",
    "\n",
    "<img src=\"https://imgur.com/g6gqsY5.png\" >\n"
   ]
  },
  {
   "cell_type": "markdown",
   "id": "186360a8-10e8-4fbc-bb75-ed3a0101b945",
   "metadata": {
    "extensions": {
     "jupyter_dashboards": {
      "version": 1,
      "views": {
       "grid_default": {},
       "report_default": {}
      }
     }
    }
   },
   "source": [
    "# Stentiment analysis\n",
    "- sentiment analysis is a process of determining whether the feedback or the piece of writing is positive or negitive. This will help to gain insights or analysis of the people opinion or the needs that are expressed in the feedback\n",
    "- Huggiesface is an open source provider of natural language processing. Big companies like Aplle, Monzo and Bing uses its librarey for the production.\n",
    "- This liberary has been used for the sentiment analyis of the feedback"
   ]
  },
  {
   "cell_type": "code",
   "execution_count": 8,
   "id": "05941152-fb1f-47b2-9e7a-c1f1c4f12738",
   "metadata": {
    "extensions": {
     "jupyter_dashboards": {
      "version": 1,
      "views": {
       "grid_default": {},
       "report_default": {}
      }
     }
    }
   },
   "outputs": [],
   "source": [
    "#intializing classifier from huggiesface for sentiment-analysis\n",
    "classifier = pipeline('sentiment-analysis')"
   ]
  },
  {
   "cell_type": "code",
   "execution_count": 9,
   "id": "1ec20e23-2c48-47a4-b111-33730f307d63",
   "metadata": {
    "extensions": {
     "jupyter_dashboards": {
      "version": 1,
      "views": {
       "grid_default": {},
       "report_default": {}
      }
     }
    }
   },
   "outputs": [],
   "source": [
    "# Finding sentiment confidence of sentiment for each feedback using huggisface api and adding them in sentiment column\n",
    "#empty list to store stentiment of each feedback\n",
    "sentiment_list = []\n",
    "#empty list to store confidence level of each sentiment\n",
    "confidence_list = []\n",
    "#looping over each feedback and get score and sentiment of it\n",
    "for i in range(cleaned_data.shape[0]):\n",
    "    result = classifier(cleaned_data['Feedback'].iloc[i])\n",
    "    sentiment = result[0]['label']\n",
    "    if sentiment == 'POSITIVE':\n",
    "        sentiment_list.append('Happy')\n",
    "    else:\n",
    "        sentiment_list.append('Not Happy')\n",
    "    confidence_level_= round(result[0]['score']*100,2)\n",
    "    confidence_list.append(confidence_level_)"
   ]
  },
  {
   "cell_type": "code",
   "execution_count": 10,
   "id": "28d4ff87-7bfe-434e-a900-be81435dd9f1",
   "metadata": {
    "extensions": {
     "jupyter_dashboards": {
      "version": 1,
      "views": {
       "grid_default": {},
       "report_default": {}
      }
     }
    }
   },
   "outputs": [],
   "source": [
    "#creating sentiment and confidence of sentiment columns\n",
    "final_data = cleaned_data\n",
    "final_data['Sentiment'] = sentiment_list\n",
    "final_data['confidence of sentiment in percentage'] = confidence_list"
   ]
  },
  {
   "cell_type": "code",
   "execution_count": 11,
   "id": "e058e274-157d-499e-97d9-3abf150289d6",
   "metadata": {
    "extensions": {
     "jupyter_dashboards": {
      "version": 1,
      "views": {
       "grid_default": {},
       "report_default": {}
      }
     }
    },
    "scrolled": true
   },
   "outputs": [
    {
     "data": {
      "text/html": [
       "<div>\n",
       "<style scoped>\n",
       "    .dataframe tbody tr th:only-of-type {\n",
       "        vertical-align: middle;\n",
       "    }\n",
       "\n",
       "    .dataframe tbody tr th {\n",
       "        vertical-align: top;\n",
       "    }\n",
       "\n",
       "    .dataframe thead th {\n",
       "        text-align: right;\n",
       "    }\n",
       "</style>\n",
       "<table border=\"1\" class=\"dataframe\">\n",
       "  <thead>\n",
       "    <tr style=\"text-align: right;\">\n",
       "      <th></th>\n",
       "      <th>Order Id</th>\n",
       "      <th>Order Status</th>\n",
       "      <th>Item Name</th>\n",
       "      <th>Item Quantity</th>\n",
       "      <th>Rating</th>\n",
       "      <th>Feedback</th>\n",
       "      <th>Sentiment</th>\n",
       "      <th>confidence of sentiment in percentage</th>\n",
       "    </tr>\n",
       "  </thead>\n",
       "  <tbody>\n",
       "    <tr>\n",
       "      <th>18</th>\n",
       "      <td>10701530888</td>\n",
       "      <td>DELIVERED</td>\n",
       "      <td>Homely Dal Tadka Thali with Sweet</td>\n",
       "      <td>1.0</td>\n",
       "      <td>1 VERY BAD</td>\n",
       "      <td>I don't think it's delivery guy fault but pack...</td>\n",
       "      <td>Not Happy</td>\n",
       "      <td>99.97</td>\n",
       "    </tr>\n",
       "    <tr>\n",
       "      <th>19</th>\n",
       "      <td>10701530888</td>\n",
       "      <td>DELIVERED</td>\n",
       "      <td>Dal Tadka Rice Bowl with Butter Milk</td>\n",
       "      <td>1.0</td>\n",
       "      <td>1 VERY BAD</td>\n",
       "      <td>I don't think it's delivery guy fault but pack...</td>\n",
       "      <td>Not Happy</td>\n",
       "      <td>99.97</td>\n",
       "    </tr>\n",
       "    <tr>\n",
       "      <th>33</th>\n",
       "      <td>106989449753</td>\n",
       "      <td>DELIVERED</td>\n",
       "      <td>Homely Chicken Masala Thali with Sweet</td>\n",
       "      <td>1.0</td>\n",
       "      <td>5 LOVED IT</td>\n",
       "      <td>I liked the quantity of the food and the taste.</td>\n",
       "      <td>Happy</td>\n",
       "      <td>99.98</td>\n",
       "    </tr>\n",
       "    <tr>\n",
       "      <th>49</th>\n",
       "      <td>106762961007</td>\n",
       "      <td>DELIVERED</td>\n",
       "      <td>Homely Bhindi Masala Thali with Sweet</td>\n",
       "      <td>1.0</td>\n",
       "      <td>2 BAD</td>\n",
       "      <td>Bhindi was very raw, butter milk had a foul smell</td>\n",
       "      <td>Not Happy</td>\n",
       "      <td>99.78</td>\n",
       "    </tr>\n",
       "    <tr>\n",
       "      <th>50</th>\n",
       "      <td>106762961007</td>\n",
       "      <td>DELIVERED</td>\n",
       "      <td>Butter Milk(300 ml)</td>\n",
       "      <td>1.0</td>\n",
       "      <td>2 BAD</td>\n",
       "      <td>Bhindi was very raw, butter milk had a foul smell</td>\n",
       "      <td>Not Happy</td>\n",
       "      <td>99.78</td>\n",
       "    </tr>\n",
       "  </tbody>\n",
       "</table>\n",
       "</div>"
      ],
      "text/plain": [
       "        Order Id Order Status                               Item Name  \\\n",
       "18   10701530888    DELIVERED       Homely Dal Tadka Thali with Sweet   \n",
       "19   10701530888    DELIVERED    Dal Tadka Rice Bowl with Butter Milk   \n",
       "33  106989449753    DELIVERED  Homely Chicken Masala Thali with Sweet   \n",
       "49  106762961007    DELIVERED   Homely Bhindi Masala Thali with Sweet   \n",
       "50  106762961007    DELIVERED                     Butter Milk(300 ml)   \n",
       "\n",
       "    Item Quantity      Rating  \\\n",
       "18            1.0  1 VERY BAD   \n",
       "19            1.0  1 VERY BAD   \n",
       "33            1.0  5 LOVED IT   \n",
       "49            1.0       2 BAD   \n",
       "50            1.0       2 BAD   \n",
       "\n",
       "                                             Feedback  Sentiment  \\\n",
       "18  I don't think it's delivery guy fault but pack...  Not Happy   \n",
       "19  I don't think it's delivery guy fault but pack...  Not Happy   \n",
       "33    I liked the quantity of the food and the taste.      Happy   \n",
       "49  Bhindi was very raw, butter milk had a foul smell  Not Happy   \n",
       "50  Bhindi was very raw, butter milk had a foul smell  Not Happy   \n",
       "\n",
       "    confidence of sentiment in percentage  \n",
       "18                                  99.97  \n",
       "19                                  99.97  \n",
       "33                                  99.98  \n",
       "49                                  99.78  \n",
       "50                                  99.78  "
      ]
     },
     "execution_count": 11,
     "metadata": {},
     "output_type": "execute_result"
    }
   ],
   "source": [
    "#overveiw of the final data\n",
    "final_data.head()"
   ]
  },
  {
   "cell_type": "code",
   "execution_count": 12,
   "id": "c9bf5b57-2ad6-407d-a42d-abe4258da1b2",
   "metadata": {},
   "outputs": [],
   "source": [
    "# converting pandas dataframe back to excel sheet\n",
    "final_data.to_excel('finaldata.xlsx')"
   ]
  },
  {
   "cell_type": "markdown",
   "id": "86c477c4-4a2f-471c-b34d-74d4be52fd06",
   "metadata": {},
   "source": [
    "# Result\n",
    "- In this section, you can see the performance of the model.\n",
    "- To evaluate the performance of the model Target variable is required to compare with the results that are given by the model.\n",
    "- I have taken Ratings as a primary target variable to evaluate the performance of the model.\n",
    "- I have created a column called Target and added values based on the Ratings.\n",
    "- If ratings are 4 GOOD and 5 LOVED IT target value becomes Happy.\n",
    "- if ratings are 2 BAD and 1 VERY BAD target value becomes Not Happy.\n",
    "- For a rating that is 3 AVERAGE, there are both positive and negative feedback values. There are 45 feedback's that having an Average rating so I have examined feedbacks manually and dived them into positive and negative and added them in the target column.\n",
    "- After created the target column, I have evaluated the performance of the model, and the model is performing at an accuracy of 93.6%.\n",
    "- The performance of the model is not that great because of the Miss-Labeling of the data. For Negative feedback, the rating was given as Positive. For example,\n",
    "- As shown in the below table for 1st Feedback Onion Dosa was extra spicy..please reduce green chilies as it gets really difficult to eat that model is predicting Not Happy but in the rating, customers have given 5 LOVED IT rating. because of this type of Miss-Labeling data performance of the model has been reduced.\n",
    "<img src=\"https://imgur.com/Af40aWC.png\" >\n"
   ]
  },
  {
   "cell_type": "code",
   "execution_count": 13,
   "id": "6edc1983-dcc9-4d3b-b3a4-7c4b9f47af18",
   "metadata": {},
   "outputs": [],
   "source": [
    "# Adding target variable\n",
    "target_data = final_data.copy()\n",
    "target_data['target'] = final_data['Rating']\n",
    "target_data['target'] = target_data['target'].replace(['1 VERY BAD','2 BAD'],'Not Happy')\n",
    "target_data['target'] = target_data['target'].replace(['5 LOVED IT','4 GOOD'],'Happy')"
   ]
  },
  {
   "cell_type": "code",
   "execution_count": 14,
   "id": "5d376b22-88ea-42f7-b815-8aa790cf92af",
   "metadata": {},
   "outputs": [],
   "source": [
    "#Replacing average rating values\n",
    "target_data['target'].replace('3 AVERAGE','Not Happy',inplace=True)\n",
    "target_data['target'][target_data['Order Id']==106560421065] = target_data['target'][target_data['Order Id']==106560421065].replace('Not Happy','Happy')"
   ]
  },
  {
   "cell_type": "code",
   "execution_count": 15,
   "id": "79f32c73-08c7-4e73-8d90-9cfef0f2c10d",
   "metadata": {},
   "outputs": [
    {
     "name": "stdout",
     "output_type": "stream",
     "text": [
      "Accurecy of the model=93.5%\n"
     ]
    }
   ],
   "source": [
    "y_true = target_data['target']\n",
    "y_pred = target_data['Sentiment']\n",
    "Accurecy_score = accuracy_score(y_true, y_pred, normalize=True, sample_weight=None)\n",
    "print(f'Accurecy of the model={round(Accurecy_score * 100,1)}%')"
   ]
  },
  {
   "cell_type": "markdown",
   "id": "a8780bde-2ded-4ac5-b9ec-27e1b0613b2a",
   "metadata": {},
   "source": []
  },
  {
   "cell_type": "raw",
   "id": "dd28e1fa-6f6e-4dcc-8aaf-675baebb77f1",
   "metadata": {},
   "source": []
  },
  {
   "cell_type": "code",
   "execution_count": null,
   "id": "132396d3-c344-4b52-939c-3df7b0985eb5",
   "metadata": {},
   "outputs": [],
   "source": []
  },
  {
   "cell_type": "code",
   "execution_count": null,
   "id": "f1e9d39f-cfca-4ad2-a101-fd96097c3235",
   "metadata": {},
   "outputs": [],
   "source": []
  }
 ],
 "metadata": {
  "extensions": {
   "jupyter_dashboards": {
    "activeView": "grid_default",
    "version": 1,
    "views": {
     "grid_default": {
      "cellMargin": 10,
      "defaultCellHeight": 20,
      "maxColumns": 12,
      "name": "grid",
      "type": "grid"
     },
     "report_default": {
      "name": "report",
      "type": "report"
     }
    }
   }
  },
  "kernelspec": {
   "display_name": "Python 3",
   "language": "python",
   "name": "python3"
  },
  "language_info": {
   "codemirror_mode": {
    "name": "ipython",
    "version": 3
   },
   "file_extension": ".py",
   "mimetype": "text/x-python",
   "name": "python",
   "nbconvert_exporter": "python",
   "pygments_lexer": "ipython3",
   "version": "3.8.8"
  }
 },
 "nbformat": 4,
 "nbformat_minor": 5
}
